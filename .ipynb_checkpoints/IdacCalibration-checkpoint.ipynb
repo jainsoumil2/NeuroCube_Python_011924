{
 "cells": [
  {
   "cell_type": "markdown",
   "metadata": {},
   "source": [
    "# References\n",
    "\n",
    "NeuroDyn equations: https://github.com/3x10e8/telluride-21/blob/neurodyn/NeuroDyn%20Python%20model.ipynb\n",
    "\n",
    "Figure from Teddy's thesis:"
   ]
  },
  {
   "cell_type": "markdown",
   "metadata": {},
   "source": [
    "# Setup neurodyn for characterization testing\n",
    "Check the mux / probe settings"
   ]
  },
  {
   "cell_type": "markdown",
   "metadata": {},
   "source": [
    "### Connect Notebook to Opal Kelly"
   ]
  },
  {
   "cell_type": "code",
   "execution_count": 6,
   "metadata": {},
   "outputs": [
    {
     "name": "stdout",
     "output_type": "stream",
     "text": [
      "Device Count:\t 1\n",
      "Device Open:\t True\n",
      "Device Info:\n",
      "Opal Kelly XEM6310\n",
      "XEM6310-LX150\n"
     ]
    }
   ],
   "source": [
    "import platform\n",
    "\n",
    "import os\n",
    "import sys\n",
    "if platform.system() == 'Darwin':\n",
    "    sys.path.append(\"okFiles/Mac//\")\n",
    "elif platform.system() == 'Windows':\n",
    "    sys.path.append(\"okFiles/Win//\")\n",
    "else:\n",
    "    print(f'We might need Opal Kelley drivers for {platform.system()}')\n",
    "\n",
    "# initialize neurocube device (dev)\n",
    "try:\n",
    "    from nc import SsRx\n",
    "except ImportError as e:\n",
    "    print(e)\n",
    "    # if libokFrontPanel.dylib gives an image not found error, it might need to be added to the lib folder:\n",
    "    # for example:\n",
    "    if 0: # set to 1 to add a symlink of libokFrontPanel.dylib\n",
    "        # update to use your exact path\n",
    "        ! ln -s /Users/3x10e8/Documents/GitHub/NeuroCube/okFiles/Mac/libokFrontPanel.dylib /usr/local/lib/\n",
    "        ! readlink /usr/local/lib/libokFrontPanel.dylib\n",
    "        \n",
    "dev = SsRx() # force a new connection (as importing a module would only work once in a jupyter session)\n",
    "\n",
    "# helper functions\n",
    "from NeuroCube_functions_g import *\n",
    "\n",
    "import time\n",
    "import pyvisa\n",
    "\n",
    "from numpy import sign as sign"
   ]
  },
  {
   "cell_type": "code",
   "execution_count": 7,
   "metadata": {},
   "outputs": [
    {
     "data": {
      "text/plain": [
       "<nc.SsRx at 0x2ad0447f160>"
      ]
     },
     "execution_count": 7,
     "metadata": {},
     "output_type": "execute_result"
    }
   ],
   "source": [
    "dev"
   ]
  },
  {
   "cell_type": "code",
   "execution_count": 8,
   "metadata": {},
   "outputs": [],
   "source": [
    "def write_Gap_Junction_rows(rows_to_update = [0x01, 0x02, 0x03, 0x04]):\n",
    "    for row in rows_to_update:\n",
    "        \n",
    "        # Set ports of gap junction for a row ###################################\n",
    "        write_Gap_Junction(dev, row, 0x0401)           # disable shutdown mode, disable transition detection\n",
    "\n",
    "        write_Gap_Junction(dev, row, 0x0955)           # configuration -- set P7, P6, P5, P4 as output ports\n",
    "        write_Gap_Junction(dev, row, 0x0A55)           # configuration -- set P11, P10, P9, P8 as output ports\n",
    "        write_Gap_Junction(dev, row, 0x4400)           # ports 4-11 output logic 0 \n",
    "\n",
    "\n",
    "        write_Gap_Junction(dev, row, 0x0B55)           # configuration -- set P15, P14, P13, P12 as output ports\n",
    "        write_Gap_Junction(dev, row, 0x0C55)           # configuration -- set P19, P18, P17, P16 as output ports\n",
    "        write_Gap_Junction(dev, row, 0x4C00)           # ports 12-19 output logic 0 \n",
    "\n",
    "\n",
    "        write_Gap_Junction(dev, row, 0x0D55)           # configuration -- set P23, P22, P21, P20 as output ports\n",
    "        write_Gap_Junction(dev, row, 0x0E55)           # configuration -- set P27, P26, P25, P24 as output ports\n",
    "        write_Gap_Junction(dev, row, 0x5400)           # ports 20-27 output logic 0 \n",
    "\n",
    "\n",
    "        write_Gap_Junction(dev, row, 0x0F55)           # configuration -- set P31, P30, P29, P28 as output ports\n",
    "        write_Gap_Junction(dev, row, 0x5C01)           # port 28 (neurodyn 1 dac's CSbar) outputs logic 1, ports 29-31 output logic 0\n",
    "        \n",
    "def update_neuron(\n",
    "    # NeuroDyn chip within NeuroCube\n",
    "    neurodyn_sel = 0,\n",
    "    neuron = 3, # only neuron 3 spikes with current params, although all neurons show activity during init\n",
    "    gNa = 1023,\n",
    "    gK = 600,\n",
    "    gL = 32,\n",
    "    ENa = 1023,\n",
    "    EK = -1023,\n",
    "    EL = 400,\n",
    "    m_alpha = 128 * 2,\n",
    "    m_beta = 128 * 2,\n",
    "    h_alpha = 16 * 2,\n",
    "    h_beta = 16 * 2,\n",
    "    n_alpha = 16 * 2,\n",
    "    n_beta = 16 * 2,\n",
    "    gSyn = [0, 0, 0], # gsyn for all three synapses \n",
    "    \n",
    "    ifSynapse = 0, \n",
    "    channelNum = 0, \n",
    "    typ = 0,                     # select alpha/beta rate, maximal conductance, reversal potential \n",
    "    bumpNum = 0             # a2, a1, a0   --  can set addrbarxyz in dac cal mode  \n",
    "):\n",
    "    parms = load_matlab_data('labDemo.mat')\n",
    "\n",
    "    # Neuron 1 -- parms['biasgErev'][0][0][0][0] -- sodium maximal conductance, parms['biasgErev'][0][0][0][1] -- sodium maximal reversal potential, parms['biasgErev'][0][0][1][0] -- potassium maximal conductance, parms['biasgErev'][0][0][1][1] -- sodium reversal potential, parms['biasgErev'][0][0][2][0] -- leak maximal conductance, parms['biasgErev'][0][0][2][1] -- leak reverse potential \n",
    "    parms['biasgErev'][neuron][0] = [[abs(gNa), abs(ENa)], \n",
    "                                     [abs(gK), abs(EK)], \n",
    "                                     [abs(gL), abs(EL)]]   \n",
    "    parms['signgErev'][neuron][0] = [[sign(gNa), sign(ENa)], \n",
    "                                     [sign(gK), sign(EK)], \n",
    "                                     [sign(gL), sign(EL)]]                                                \n",
    "    # sign bits for the same as described in line 274\n",
    "    \n",
    "    parms['biasAlphaBeta'][neuron][0][0][0][:] = [0, 0, 0, m_alpha, 0, 0, 0]          # m alpha\n",
    "    parms['biasAlphaBeta'][neuron][0][0][1][:] = [0, 0, 0, m_beta, 0, 0, 0]           # m beta\n",
    "    parms['biasAlphaBeta'][neuron][0][1][0][:] = [0, 0, 0, h_alpha, 0, 0, 0]          # h alpha\n",
    "    parms['biasAlphaBeta'][neuron][0][1][1][:] = [0, 0, 0, h_beta, 0, 0, 0]           # h beta\n",
    "    parms['biasAlphaBeta'][neuron][0][2][0][:] = [0, 0, 0, n_alpha, 0, 0, 0]          # n alpha\n",
    "    parms['biasAlphaBeta'][neuron][0][2][1][:] = [0, 0, 0, n_beta, 0, 0, 0]           # n beta\n",
    "\n",
    "    parms['signAlphaBeta'][neuron][0] = [[1, -1], [-1, 1], [1, -1]]                  # Neuron 1\n",
    "    \n",
    "    # Synapse parameters\n",
    "    parms['biasgErev'][neuron][1] = [[gSyn[0], 256], [gSyn[1], 256], [gSyn[2], 256]]\n",
    "    parms['signgErev'][neuron][1] = [[1, 1], [1, -1], [1, 1]]  # sign = -1 for Erev for an INHIBITORY synapse on neuron 1 (Vpost) from neuron 3 (Vpre)\n",
    "    \n",
    "    parms['biasAlphaBeta'][neuron][1] = [[[  0,   0,   0,   20,   0, 0, 0],\n",
    "                                     [  200,   10,  5,   0,   0,   0,   0]],\n",
    "\n",
    "                                    [[  0,   0,   0,   20,   0,  0, 0],\n",
    "                                     [  200,   10,   5,   0,   0,   0,   0]],\n",
    "\n",
    "                                    [[  0,   10,   20,   40,   80,  120, 240],\n",
    "                                     [  1000,   1000,   1000,   0,   0,   0,   0]]]\n",
    "\n",
    "    parms['signAlphaBeta'][neuron][1] = [[1, -1], [1, -1], [1, -1]]\n",
    "\n",
    "    # for soma\n",
    "    load_int_dacs(dev, parms['signAlphaBeta'],\n",
    "                  parms['signgErev'],\n",
    "                  parms['biasAlphaBeta'],\n",
    "                  parms['biasgErev'],\n",
    "                  neuron,\n",
    "                  0, neurodyn_sel)\n",
    "\n",
    "    # for synapses\n",
    "    load_int_dacs(dev, parms['signAlphaBeta'],\n",
    "                  parms['signgErev'],\n",
    "                  parms['biasAlphaBeta'],\n",
    "                  parms['biasgErev'],\n",
    "                  neuron,\n",
    "                  1, neurodyn_sel)\n",
    "\n",
    "    addr = (neuron << 8) + (ifSynapse << 7) + (channelNum << 5) + (typ << 3) + bumpNum # neuron 0, channel = 0 (m); m, h, n = [0,32,64]\n",
    "    set_internal_dacs_address(dev, addr, neurodyn_sel)\n",
    "    "
   ]
  },
  {
   "cell_type": "markdown",
   "metadata": {},
   "source": [
    "# Neurodyn main code   "
   ]
  },
  {
   "cell_type": "code",
   "execution_count": 9,
   "metadata": {},
   "outputs": [],
   "source": [
    "write_Gap_Junction_rows([0x01, 0x02, 0x03, 0x04])"
   ]
  },
  {
   "cell_type": "code",
   "execution_count": 10,
   "metadata": {},
   "outputs": [],
   "source": [
    "neurodyn_sel = 0     # choose from: 0, 1, 2, 3\n",
    "neuron = 0           # choose from: 0, 1, 2, 3"
   ]
  },
  {
   "cell_type": "code",
   "execution_count": 11,
   "metadata": {},
   "outputs": [],
   "source": [
    "write_external_DACs_neurodyn(dev, Vref_neurodyn, 1.2, neurodyn_sel+1)       # 0.9v      \n",
    "write_external_DACs_neurodyn(dev, vBiasN, 1.365, neurodyn_sel+1)            # 1.4v        \n",
    "write_external_DACs_neurodyn(dev, vBiasP, 1.694, neurodyn_sel+1)            # 1.7v        \n",
    "write_external_DACs_neurodyn(dev, Vb, 0.9012, neurodyn_sel+1)               # 0.9v         \n",
    "write_external_DACs_neurodyn(dev, IinVoltagePin, 1.1, neurodyn_sel+1)       # ND1: 1.1v - 3uA       \n",
    "#write_external_DACs_neurodyn(dev, IinMaster_gmax, 0.525, neurodyn_sel+1)   # ND1: 0.6211v - 40nA        \n",
    "write_external_DACs_neurodyn(dev, IinMaster_gmax, 0.6211, neurodyn_sel+1)   # ND1: 0.6211v - 40nA        \n",
    "write_external_DACs_neurodyn(dev, IinMasteralpha_beta, 0.58, neurodyn_sel+1)  # ND1: 0.4422v - 0.4nA       \n",
    "write_external_DACs_neurodyn(dev, VmemProbeIn, 0.9, neurodyn_sel+1)         # 0.9v      "
   ]
  },
  {
   "cell_type": "code",
   "execution_count": 12,
   "metadata": {},
   "outputs": [
    {
     "name": "stdout",
     "output_type": "stream",
     "text": [
      "External dac selected for voltage clamping all neurodyns\n",
      "VmemBufMUX is sent to the corresponding neurodyn channel on NISoC\n"
     ]
    }
   ],
   "source": [
    "chip_init(dev, neurodyn_sel)\n",
    "\n",
    "# Set Iext for neurodyn (Howland outputs nA)\n",
    "set_current_source_selector_switch_all_neurodyns(dev, 2)  # 1 - howland current source; 2 - external DAC \n",
    "set_expose_off_probe_off_all_neurodyns(dev)\n",
    "\n",
    "# output mux is on the PCB\n",
    "set_neurodyn_outputs_mux(dev, 3)   # target_output = 1 -- gTapMUX; 2 -- EreverseTapMUX; 3 -- VmemBufMUX; 4 -- VmemProbeIn       \n",
    "\n",
    "#set_dac_cal_off_switchrpin_off(dev)"
   ]
  },
  {
   "cell_type": "markdown",
   "metadata": {},
   "source": [
    "## DAC Calibration Mode"
   ]
  },
  {
   "cell_type": "code",
   "execution_count": 21,
   "metadata": {},
   "outputs": [
    {
     "name": "stdout",
     "output_type": "stream",
     "text": [
      "0 3\n",
      "00000\n",
      "probe turned on and expose is off\n"
     ]
    }
   ],
   "source": [
    "write_external_DACs_neurodyn(dev, IinMasteralpha_beta, 0.9, neurodyn_sel+1)  # ND1: 0.4422v - 0.4nA \n",
    "write_external_DACs_neurodyn(dev, Vref_neurodyn, 0.9, neurodyn_sel+1)       # 0.9v      \n",
    "write_external_DACs_neurodyn(dev, vBiasN, 1.4, neurodyn_sel+1)            # 1.4v        \n",
    "write_external_DACs_neurodyn(dev, vBiasP, 1.7, neurodyn_sel+1)            # 1.7v   \n",
    "\n",
    "def dac_cal_mode(\n",
    "    dev, \n",
    "    neurodyn_sel = 0, \n",
    "    neuron = 0, \n",
    "    ifSynapse = 0, # program a neuron\n",
    "    channelNum = 0,\n",
    "    bumpNum = 3 # which of the seven sigmoids sends current to Iout (for measuring)\n",
    "):\n",
    "\n",
    "    set_expose_off_probe_off_all_neurodyns(dev)\n",
    "    \n",
    "    # addr = (neuron << 8) + (ifSynapse << 7) + (channelNum << 5) + (typ << 3) + bumpNum # neuron 0, channel = 0 (m); m, h, n = [0,32,64]\n",
    "    # set_internal_dacs_address(dev, addr, neurodyn_sel)\n",
    "    \n",
    "    alphaSelIn = (neuron << 3) + (ifSynapse << 2) + (channelNum << 0)\n",
    "    print(neuron, bumpNum)\n",
    "    print('{:05b}'.format(alphaSelIn))\n",
    "    \n",
    "    \n",
    "    update_neuron(# NeuroDyn chip within NeuroCube\n",
    "        neurodyn_sel = neurodyn_sel,\n",
    "        neuron = neuron, # only neuron 3 spikes with current params, although all neurons show activity during init\n",
    "        gNa = 0,\n",
    "        gK = 0,\n",
    "        gL = 0,\n",
    "        ENa = 0,\n",
    "        EK = 0,\n",
    "        EL = 0,\n",
    "        m_alpha = 1024,\n",
    "        m_beta = 1024,\n",
    "        h_alpha = 1024,\n",
    "        h_beta = 1024,\n",
    "        n_alpha = 1024,\n",
    "        n_beta = 1024,\n",
    "        gSyn = [0, 0, 0], \n",
    "        ifSynapse = ifSynapse, \n",
    "        channelNum = channelNum, # m, n, h \n",
    "        typ = 0,                      # select alpha/beta rate, maximal conductance, reversal potential \n",
    "        bumpNum = bumpNum,             # a2, a1, a0   --  can set addrbarxyz in dac cal mode  \n",
    "    )\n",
    "    \n",
    "    # sets Vbias (right side of diff pair)\n",
    "    set_dac_cal_on_switchrpin_off(dev)\n",
    "    \n",
    "    # sets Vmem (left arm) to external DAC\n",
    "    set_probe_on_expose_off(dev, neurodyn_sel+1) # select switch to allow external Vmem input\n",
    "    write_external_DACs_neurodyn(dev, VmemProbeIn, 1.1, neurodyn_sel+1)  # 0.9v -- ext DAC for Vmem\n",
    "\n",
    "dac_cal_mode(\n",
    "    dev, \n",
    "    neurodyn_sel = 0, \n",
    "    neuron = 1, \n",
    "    ifSynapse = 0, # program a neuron\n",
    "    channelNum = 0,\n",
    "    bumpNum = 3 # which of the seven sigmoids sends current to Iout (for measuring)\n",
    ")"
   ]
  },
  {
   "cell_type": "code",
   "execution_count": null,
   "metadata": {},
   "outputs": [],
   "source": [
    "16 pA for 0.9V"
   ]
  },
  {
   "cell_type": "code",
   "execution_count": 9,
   "metadata": {},
   "outputs": [
    {
     "ename": "AttributeError",
     "evalue": "'NoneType' object has no attribute 'Close'",
     "output_type": "error",
     "traceback": [
      "\u001b[1;31m---------------------------------------------------------------------------\u001b[0m",
      "\u001b[1;31mAttributeError\u001b[0m                            Traceback (most recent call last)",
      "Cell \u001b[1;32mIn[9], line 1\u001b[0m\n\u001b[1;32m----> 1\u001b[0m \u001b[43mdev\u001b[49m\u001b[38;5;241;43m.\u001b[39;49m\u001b[43mxem\u001b[49m\u001b[38;5;241;43m.\u001b[39;49m\u001b[43mClose\u001b[49m()\n",
      "\u001b[1;31mAttributeError\u001b[0m: 'NoneType' object has no attribute 'Close'"
     ]
    }
   ],
   "source": [
    "dev.xem.Close()\n",
    "# Must restart kernel to open the device again?"
   ]
  }
 ],
 "metadata": {
  "colab": {
   "provenance": []
  },
  "kernelspec": {
   "display_name": "Python 3 (ipykernel)",
   "language": "python",
   "name": "python3"
  },
  "language_info": {
   "codemirror_mode": {
    "name": "ipython",
    "version": 3
   },
   "file_extension": ".py",
   "mimetype": "text/x-python",
   "name": "python",
   "nbconvert_exporter": "python",
   "pygments_lexer": "ipython3",
   "version": "3.10.9"
  }
 },
 "nbformat": 4,
 "nbformat_minor": 1
}
